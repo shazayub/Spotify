{
 "cells": [
  {
   "cell_type": "code",
   "execution_count": 1,
   "id": "6948bd48",
   "metadata": {},
   "outputs": [],
   "source": [
    "import pandas as pd\n",
    "import pyodbc\n",
    "from sqlalchemy import create_engine"
   ]
  },
  {
   "cell_type": "code",
   "execution_count": 4,
   "id": "4f0dc7c5",
   "metadata": {},
   "outputs": [
    {
     "name": "stdout",
     "output_type": "stream",
     "text": [
      "Success\n"
     ]
    }
   ],
   "source": [
    "# connect to my azure sql database\n",
    "\n",
    "server = 'projectmbappe.database.windows.net'\n",
    "database = 'Spotify'\n",
    "username = 'shazayub774'\n",
    "password = 'Ntqmskw4?'\n",
    "driver = 'ODBC Driver 17 for SQL Server'  # This may differ based on your SQL Server driver\n",
    "\n",
    "conn = pyodbc.connect(f\"DRIVER={driver};SERVER={server};DATABASE={database};UID={username};PWD={password}\")\n",
    "conn_str = f'mssql+pyodbc://{username}:{password}@{server}/{database}?driver={driver}'\n",
    "\n",
    "engine = create_engine(conn_str)\n",
    "\n",
    "# # loop to see if connection to sql server was successful\n",
    "# try:\n",
    "#     conn = pyodbc.connect(f\"DRIVER={driver};SERVER={server};DATABASE={database};UID={username};PWD={password}\")\n",
    "#     print(\"Success\")\n",
    "#     conn.close\n",
    "# except pyodbc.Error as e:\n",
    "#         print(f\"Error: {e}\")"
   ]
  },
  {
   "cell_type": "code",
   "execution_count": 6,
   "id": "28106471",
   "metadata": {},
   "outputs": [],
   "source": [
    "query = 'SELECT * FROM combination'\n",
    "\n",
    "df = pd.read_sql(query, engine)"
   ]
  },
  {
   "cell_type": "code",
   "execution_count": 8,
   "id": "8351b0c5",
   "metadata": {},
   "outputs": [
    {
     "data": {
      "text/plain": [
       "(104629, 4)"
      ]
     },
     "execution_count": 8,
     "metadata": {},
     "output_type": "execute_result"
    }
   ],
   "source": [
    "df.shape"
   ]
  },
  {
   "cell_type": "code",
   "execution_count": null,
   "id": "63de1d8b",
   "metadata": {},
   "outputs": [],
   "source": []
  },
  {
   "cell_type": "code",
   "execution_count": null,
   "id": "d4a2aa43",
   "metadata": {},
   "outputs": [],
   "source": []
  },
  {
   "cell_type": "code",
   "execution_count": null,
   "id": "7a46ff29",
   "metadata": {},
   "outputs": [],
   "source": []
  },
  {
   "cell_type": "code",
   "execution_count": null,
   "id": "1d3865b1",
   "metadata": {},
   "outputs": [],
   "source": []
  }
 ],
 "metadata": {
  "kernelspec": {
   "display_name": "Python 3 (ipykernel)",
   "language": "python",
   "name": "python3"
  },
  "language_info": {
   "codemirror_mode": {
    "name": "ipython",
    "version": 3
   },
   "file_extension": ".py",
   "mimetype": "text/x-python",
   "name": "python",
   "nbconvert_exporter": "python",
   "pygments_lexer": "ipython3",
   "version": "3.11.4"
  }
 },
 "nbformat": 4,
 "nbformat_minor": 5
}
