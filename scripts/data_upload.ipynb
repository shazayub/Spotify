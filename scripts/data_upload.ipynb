{
 "cells": [
  {
   "cell_type": "code",
   "execution_count": 1,
   "id": "087877e4",
   "metadata": {},
   "outputs": [],
   "source": [
    "import pyodbc\n",
    "import pandas as pd\n",
    "from sqlalchemy import create_engine\n",
    "\n",
    "# read my datafiles into dataframes\n",
    "\n",
    "df_14_to_17 = pd.read_json(\"C:/Users//shaze//Desktop//GitHub//Spotify//input_data//Streaming_History_Audio_2014-2017_0.json\")\n",
    "df_17_to_18 = pd.read_json(\"C:/Users//shaze//Desktop//GitHub//Spotify//input_data//Streaming_History_Audio_2017-2018_1.json\")\n",
    "df_18_to_19 = pd.read_json(\"C:/Users//shaze//Desktop//GitHub//Spotify//input_data//Streaming_History_Audio_2018-2019_2.json\")\n",
    "df_19_to_20 = pd.read_json(\"C:/Users//shaze//Desktop//GitHub//Spotify//input_data//Streaming_History_Audio_2019-2020_3.json\")\n",
    "df_20_to_22 = pd.read_json(\"C:/Users//shaze//Desktop//GitHub//Spotify//input_data//Streaming_History_Audio_2020-2022_4.json\")\n",
    "df_22_to_23 = pd.read_json(\"C:/Users//shaze//Desktop//GitHub//Spotify//input_data//Streaming_History_Audio_2022-2023_5.json\")\n",
    "df_23 = pd.read_json(\"C:/Users//shaze//Desktop//GitHub//Spotify//input_data//Streaming_History_Audio_2023_6.json\")"
   ]
  },
  {
   "cell_type": "code",
   "execution_count": 4,
   "id": "b74d793d",
   "metadata": {},
   "outputs": [
    {
     "name": "stdout",
     "output_type": "stream",
     "text": [
      "Success\n"
     ]
    }
   ],
   "source": [
    "# connect to my azure sql server to upload my dataframes as tables in my database\n",
    "\n",
    "server = 'projectmbappe.database.windows.net'\n",
    "database = 'Project Mbappe'\n",
    "username = 'shazayub774'\n",
    "password = 'Ntqmskw4?'\n",
    "driver = 'ODBC Driver 17 for SQL Server'  # This may differ based on your SQL Server driver\n",
    "\n",
    "conn = pyodbc.connect(f\"DRIVER={driver};SERVER={server};DATABASE={database};UID={username};PWD={password}\")\n",
    "conn_str = f'mssql+pyodbc://{username}:{password}@{server}/{database}?driver={driver}'\n",
    "\n",
    "engine = create_engine(conn_str)\n",
    "\n",
    "# loop to see if connection to sql server was successful\n",
    "# try:\n",
    "#     conn = pyodbc.connect(f\"DRIVER={driver};SERVER={server};DATABASE={database};UID={username};PWD={password}\")\n",
    "#     print(\"Success\")\n",
    "#     conn.close\n",
    "# except pyodbc.Error as e:\n",
    "#         print(f\"Error: {e}\")"
   ]
  },
  {
   "cell_type": "code",
   "execution_count": 5,
   "id": "0195a689",
   "metadata": {},
   "outputs": [],
   "source": [
    "# upload each dataframe to a table using the previous connection and then close the connection\n",
    "\n",
    "df_14_to_17.to_sql('14_to_17', con = engine, if_exists = 'replace', index = False)\n",
    "df_17_to_18.to_sql('17_to_18', con = engine, if_exists = 'replace', index = False)\n",
    "df_18_to_19.to_sql('18_to_19', con = engine, if_exists = 'replace', index = False)\n",
    "df_19_to_20.to_sql('19_to_20', con = engine, if_exists = 'replace', index = False)\n",
    "df_20_to_22.to_sql('20_to_22', con = engine, if_exists = 'replace', index = False)\n",
    "df_22_to_23.to_sql('22_to_23', con = engine, if_exists = 'replace', index = False)\n",
    "df_23.to_sql('23_', con = engine, if_exists = 'replace', index = False)\n",
    "\n",
    "engine.dispose()"
   ]
  },
  {
   "cell_type": "code",
   "execution_count": null,
   "id": "e4890f15",
   "metadata": {},
   "outputs": [],
   "source": []
  },
  {
   "cell_type": "code",
   "execution_count": null,
   "id": "e3ab0fd5",
   "metadata": {},
   "outputs": [],
   "source": []
  },
  {
   "cell_type": "code",
   "execution_count": null,
   "id": "ed355539",
   "metadata": {},
   "outputs": [],
   "source": []
  },
  {
   "cell_type": "code",
   "execution_count": null,
   "id": "12f79fa2",
   "metadata": {},
   "outputs": [],
   "source": []
  },
  {
   "cell_type": "code",
   "execution_count": null,
   "id": "df5697ff",
   "metadata": {},
   "outputs": [],
   "source": []
  },
  {
   "cell_type": "code",
   "execution_count": null,
   "id": "16069889",
   "metadata": {},
   "outputs": [],
   "source": []
  },
  {
   "cell_type": "code",
   "execution_count": null,
   "id": "7af7bb92",
   "metadata": {},
   "outputs": [],
   "source": []
  },
  {
   "cell_type": "code",
   "execution_count": null,
   "id": "fa941af6",
   "metadata": {},
   "outputs": [],
   "source": []
  }
 ],
 "metadata": {
  "kernelspec": {
   "display_name": "Python 3 (ipykernel)",
   "language": "python",
   "name": "python3"
  },
  "language_info": {
   "codemirror_mode": {
    "name": "ipython",
    "version": 3
   },
   "file_extension": ".py",
   "mimetype": "text/x-python",
   "name": "python",
   "nbconvert_exporter": "python",
   "pygments_lexer": "ipython3",
   "version": "3.11.4"
  }
 },
 "nbformat": 4,
 "nbformat_minor": 5
}
